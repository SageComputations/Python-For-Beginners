{
 "cells": [
  {
   "cell_type": "code",
   "execution_count": 2,
   "id": "9aa086cd",
   "metadata": {},
   "outputs": [],
   "source": [
    "n1 = 45\n",
    "\n",
    "n2 = 67\n",
    "\n",
    "n3 = 59"
   ]
  },
  {
   "cell_type": "code",
   "execution_count": 3,
   "id": "c171de43",
   "metadata": {},
   "outputs": [],
   "source": [
    "s1 = \"Hello\"\n",
    "\n",
    "s2 = \"World\""
   ]
  },
  {
   "cell_type": "code",
   "execution_count": 4,
   "id": "41dbdd0c",
   "metadata": {},
   "outputs": [
    {
     "name": "stdout",
     "output_type": "stream",
     "text": [
      "171\n"
     ]
    }
   ],
   "source": [
    "total_n = n1 + n2 + n3\n",
    "\n",
    "print(total_n)"
   ]
  },
  {
   "cell_type": "code",
   "execution_count": 4,
   "id": "754bccb6",
   "metadata": {},
   "outputs": [
    {
     "data": {
      "text/plain": [
       "46"
      ]
     },
     "execution_count": 4,
     "metadata": {},
     "output_type": "execute_result"
    }
   ],
   "source": [
    "n1 = n1 + 1\n",
    "n1                 #Value of the variable changes and gets stored in the result"
   ]
  },
  {
   "cell_type": "code",
   "execution_count": 5,
   "id": "4f952eba",
   "metadata": {},
   "outputs": [
    {
     "data": {
      "text/plain": [
       "87"
      ]
     },
     "execution_count": 5,
     "metadata": {},
     "output_type": "execute_result"
    }
   ],
   "source": [
    "n2 = n2 + 20\n",
    "n2"
   ]
  },
  {
   "cell_type": "code",
   "execution_count": 6,
   "id": "79326f69",
   "metadata": {},
   "outputs": [
    {
     "data": {
      "text/plain": [
       "19"
      ]
     },
     "execution_count": 6,
     "metadata": {},
     "output_type": "execute_result"
    }
   ],
   "source": [
    "n3 = n3 - 40\n",
    "n3"
   ]
  },
  {
   "cell_type": "code",
   "execution_count": 7,
   "id": "a6649a87",
   "metadata": {},
   "outputs": [
    {
     "data": {
      "text/plain": [
       "95"
      ]
     },
     "execution_count": 7,
     "metadata": {},
     "output_type": "execute_result"
    }
   ],
   "source": [
    "n3 = n3 * 5         #python will use the last value of n3 stored for this computation\n",
    "n3"
   ]
  },
  {
   "cell_type": "code",
   "execution_count": 8,
   "id": "e57e6fa8",
   "metadata": {},
   "outputs": [
    {
     "data": {
      "text/plain": [
       "9.5"
      ]
     },
     "execution_count": 8,
     "metadata": {},
     "output_type": "execute_result"
    }
   ],
   "source": [
    "n3 = n3/10         # Again python will use the last value of n3 stored for this computation\n",
    "n3"
   ]
  },
  {
   "cell_type": "code",
   "execution_count": 9,
   "id": "cb871f30",
   "metadata": {},
   "outputs": [
    {
     "data": {
      "text/plain": [
       "93"
      ]
     },
     "execution_count": 9,
     "metadata": {},
     "output_type": "execute_result"
    }
   ],
   "source": [
    "n1 += n1 + 1       # += means Addition + Assignment (Combination of two operations)\n",
    "n1"
   ]
  },
  {
   "cell_type": "code",
   "execution_count": 10,
   "id": "a93df98d",
   "metadata": {},
   "outputs": [
    {
     "data": {
      "text/plain": [
       "97"
      ]
     },
     "execution_count": 10,
     "metadata": {},
     "output_type": "execute_result"
    }
   ],
   "source": [
    "n2 += 10\n",
    "n2"
   ]
  },
  {
   "cell_type": "code",
   "execution_count": 11,
   "id": "ac37475a",
   "metadata": {},
   "outputs": [
    {
     "data": {
      "text/plain": [
       "95.0"
      ]
     },
     "execution_count": 11,
     "metadata": {},
     "output_type": "execute_result"
    }
   ],
   "source": [
    "n3 *= 10\n",
    "n3"
   ]
  },
  {
   "cell_type": "code",
   "execution_count": 12,
   "id": "9ee05754",
   "metadata": {},
   "outputs": [
    {
     "data": {
      "text/plain": [
       "19.0"
      ]
     },
     "execution_count": 12,
     "metadata": {},
     "output_type": "execute_result"
    }
   ],
   "source": [
    "n3 /= 5\n",
    "n3"
   ]
  },
  {
   "cell_type": "code",
   "execution_count": 13,
   "id": "24b71197",
   "metadata": {},
   "outputs": [
    {
     "data": {
      "text/plain": [
       "'HelloWorld'"
      ]
     },
     "execution_count": 13,
     "metadata": {},
     "output_type": "execute_result"
    }
   ],
   "source": [
    "concat_string = s1 + s2\n",
    "concat_string"
   ]
  },
  {
   "cell_type": "code",
   "execution_count": 14,
   "id": "6df8ca55",
   "metadata": {},
   "outputs": [
    {
     "data": {
      "text/plain": [
       "'Helloyay'"
      ]
     },
     "execution_count": 14,
     "metadata": {},
     "output_type": "execute_result"
    }
   ],
   "source": [
    "s1 = s1 + \"yay\"\n",
    "s1"
   ]
  },
  {
   "cell_type": "code",
   "execution_count": 15,
   "id": "8d273f2a",
   "metadata": {},
   "outputs": [
    {
     "data": {
      "text/plain": [
       "'WorldAliens'"
      ]
     },
     "execution_count": 15,
     "metadata": {},
     "output_type": "execute_result"
    }
   ],
   "source": [
    "s2 = s2 + \"Aliens\"\n",
    "s2"
   ]
  },
  {
   "cell_type": "code",
   "execution_count": 16,
   "id": "db209bb1",
   "metadata": {},
   "outputs": [
    {
     "data": {
      "text/plain": [
       "'Helloyay'"
      ]
     },
     "execution_count": 16,
     "metadata": {},
     "output_type": "execute_result"
    }
   ],
   "source": [
    "new_s1 = s1\n",
    "new_s1"
   ]
  },
  {
   "cell_type": "code",
   "execution_count": 17,
   "id": "72705b26",
   "metadata": {},
   "outputs": [
    {
     "data": {
      "text/plain": [
       "'somethingelse'"
      ]
     },
     "execution_count": 17,
     "metadata": {},
     "output_type": "execute_result"
    }
   ],
   "source": [
    "s1 = \"somethingelse\"\n",
    "s1"
   ]
  },
  {
   "cell_type": "code",
   "execution_count": 18,
   "id": "2f3424c6",
   "metadata": {},
   "outputs": [
    {
     "data": {
      "text/plain": [
       "'Helloyay'"
      ]
     },
     "execution_count": 18,
     "metadata": {},
     "output_type": "execute_result"
    }
   ],
   "source": [
    "new_s1  #Even if we change the value of original s1 the new_s1 value does not change"
   ]
  },
  {
   "cell_type": "code",
   "execution_count": 20,
   "id": "0c13d54d",
   "metadata": {},
   "outputs": [
    {
     "data": {
      "text/plain": [
       "19.0"
      ]
     },
     "execution_count": 20,
     "metadata": {},
     "output_type": "execute_result"
    }
   ],
   "source": [
    "new_n3 = n3\n",
    "new_n3"
   ]
  },
  {
   "cell_type": "code",
   "execution_count": 21,
   "id": "82ee15e8",
   "metadata": {},
   "outputs": [
    {
     "data": {
      "text/plain": [
       "119.0"
      ]
     },
     "execution_count": 21,
     "metadata": {},
     "output_type": "execute_result"
    }
   ],
   "source": [
    "n3 += 100\n",
    "n3"
   ]
  },
  {
   "cell_type": "code",
   "execution_count": 22,
   "id": "38ee9f9b",
   "metadata": {},
   "outputs": [
    {
     "data": {
      "text/plain": [
       "19.0"
      ]
     },
     "execution_count": 22,
     "metadata": {},
     "output_type": "execute_result"
    }
   ],
   "source": [
    "new_n3  #Even if we change the value of original n1 the new_n1 value does not change"
   ]
  },
  {
   "cell_type": "code",
   "execution_count": null,
   "id": "6fc40499",
   "metadata": {},
   "outputs": [],
   "source": []
  }
 ],
 "metadata": {
  "kernelspec": {
   "display_name": "Python 3 (ipykernel)",
   "language": "python",
   "name": "python3"
  },
  "language_info": {
   "codemirror_mode": {
    "name": "ipython",
    "version": 3
   },
   "file_extension": ".py",
   "mimetype": "text/x-python",
   "name": "python",
   "nbconvert_exporter": "python",
   "pygments_lexer": "ipython3",
   "version": "3.9.12"
  }
 },
 "nbformat": 4,
 "nbformat_minor": 5
}
