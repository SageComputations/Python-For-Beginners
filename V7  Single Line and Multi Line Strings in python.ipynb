{
 "cells": [
  {
   "cell_type": "code",
   "execution_count": 1,
   "id": "e8c877ce",
   "metadata": {},
   "outputs": [
    {
     "name": "stdout",
     "output_type": "stream",
     "text": [
      "This is in single quotes\n"
     ]
    }
   ],
   "source": [
    "print('This is in single quotes')"
   ]
  },
  {
   "cell_type": "code",
   "execution_count": 2,
   "id": "5638af63",
   "metadata": {},
   "outputs": [
    {
     "name": "stdout",
     "output_type": "stream",
     "text": [
      "This is in double quotes\n"
     ]
    }
   ],
   "source": [
    "print(\"This is in double quotes\")"
   ]
  },
  {
   "cell_type": "code",
   "execution_count": 4,
   "id": "e0036630",
   "metadata": {},
   "outputs": [
    {
     "name": "stdout",
     "output_type": "stream",
     "text": [
      "python is Great\n"
     ]
    }
   ],
   "source": [
    "print('python ' + \"is\" + \"\"\" Great\"\"\")   #Using all three types of quotes in single line"
   ]
  },
  {
   "cell_type": "code",
   "execution_count": 6,
   "id": "febc4070",
   "metadata": {},
   "outputs": [
    {
     "name": "stdout",
     "output_type": "stream",
     "text": [
      "python python python python \n"
     ]
    }
   ],
   "source": [
    "print('python ' * 4)"
   ]
  },
  {
   "cell_type": "code",
   "execution_count": 7,
   "id": "7c3bc45c",
   "metadata": {},
   "outputs": [
    {
     "ename": "TypeError",
     "evalue": "unsupported operand type(s) for -: 'str' and 'int'",
     "output_type": "error",
     "traceback": [
      "\u001b[1;31m---------------------------------------------------------------------------\u001b[0m",
      "\u001b[1;31mTypeError\u001b[0m                                 Traceback (most recent call last)",
      "Input \u001b[1;32mIn [7]\u001b[0m, in \u001b[0;36m<cell line: 1>\u001b[1;34m()\u001b[0m\n\u001b[1;32m----> 1\u001b[0m \u001b[38;5;28mprint\u001b[39m(\u001b[38;5;124;43m'\u001b[39;49m\u001b[38;5;124;43mpython\u001b[39;49m\u001b[38;5;124;43m'\u001b[39;49m\u001b[43m \u001b[49m\u001b[38;5;241;43m-\u001b[39;49m\u001b[43m \u001b[49m\u001b[38;5;241;43m3\u001b[39;49m)\n",
      "\u001b[1;31mTypeError\u001b[0m: unsupported operand type(s) for -: 'str' and 'int'"
     ]
    }
   ],
   "source": [
    "print('python' - 3)"
   ]
  },
  {
   "cell_type": "code",
   "execution_count": 2,
   "id": "e45a405f",
   "metadata": {},
   "outputs": [
    {
     "name": "stdout",
     "output_type": "stream",
     "text": [
      "mall\n",
      "you went to the mall! that's great!\n"
     ]
    }
   ],
   "source": [
    "question = \"Where did you went yesterday evening?\"\n",
    "answer = input()\n",
    "#input function accepts the input from the user\n",
    "\n",
    "print('you went to the ' + answer + '!' + \" that's great!\" )"
   ]
  },
  {
   "cell_type": "code",
   "execution_count": 9,
   "id": "d433b50e",
   "metadata": {},
   "outputs": [
    {
     "ename": "SyntaxError",
     "evalue": "invalid syntax (1463326301.py, line 1)",
     "output_type": "error",
     "traceback": [
      "\u001b[1;36m  Input \u001b[1;32mIn [9]\u001b[1;36m\u001b[0m\n\u001b[1;33m    print('I'm going to subscribe')\u001b[0m\n\u001b[1;37m             ^\u001b[0m\n\u001b[1;31mSyntaxError\u001b[0m\u001b[1;31m:\u001b[0m invalid syntax\n"
     ]
    }
   ],
   "source": [
    "print('I'm going to subscribe') "
   ]
  },
  {
   "cell_type": "code",
   "execution_count": 10,
   "id": "2252e236",
   "metadata": {},
   "outputs": [
    {
     "name": "stdout",
     "output_type": "stream",
     "text": [
      "I'm going to subscribe\n"
     ]
    }
   ],
   "source": [
    "print(\"I'm going to subscribe\") #Reason why python supports multiple quotes"
   ]
  },
  {
   "cell_type": "code",
   "execution_count": 11,
   "id": "9ef51365",
   "metadata": {},
   "outputs": [
    {
     "name": "stdout",
     "output_type": "stream",
     "text": [
      "He said \"Hello There!\"\n"
     ]
    }
   ],
   "source": [
    "print('He said \"Hello There!\"') #Double Quotes within single quotes are printed as it is"
   ]
  },
  {
   "cell_type": "code",
   "execution_count": 12,
   "id": "74f27423",
   "metadata": {},
   "outputs": [
    {
     "name": "stdout",
     "output_type": "stream",
     "text": [
      "I'm leaving\n"
     ]
    }
   ],
   "source": [
    "print('I\\'m leaving') # \\ - this is an escape character and anything after that will be treated\n",
    "                      # as it is without giving any special meaning to it "
   ]
  },
  {
   "cell_type": "code",
   "execution_count": 13,
   "id": "5a7cc8fe",
   "metadata": {},
   "outputs": [
    {
     "name": "stdout",
     "output_type": "stream",
     "text": [
      "He said \"Hello There!\"\n"
     ]
    }
   ],
   "source": [
    "print(\"He said \\\"Hello There!\\\"\") #Double Quotes with \\ are printed as it is even if inside double quotes."
   ]
  },
  {
   "cell_type": "code",
   "execution_count": 14,
   "id": "aa15ed89",
   "metadata": {},
   "outputs": [
    {
     "name": "stdout",
     "output_type": "stream",
     "text": [
      "Hello Alex! \n",
      "How are you?\n"
     ]
    }
   ],
   "source": [
    "print(\"Hello Alex! \\nHow are you?\") #\\n - gives a new line"
   ]
  },
  {
   "cell_type": "code",
   "execution_count": 16,
   "id": "b8f9437d",
   "metadata": {},
   "outputs": [
    {
     "name": "stdout",
     "output_type": "stream",
     "text": [
      "This is a very long line \n",
      "but we can divide it into \n",
      "multiple lines.\n"
     ]
    }
   ],
   "source": [
    "print(\"This is a very long line \\nbut we can divide it into \\nmultiple lines.\")"
   ]
  },
  {
   "cell_type": "code",
   "execution_count": 4,
   "id": "c2c5a125",
   "metadata": {},
   "outputs": [
    {
     "name": "stdout",
     "output_type": "stream",
     "text": [
      "This is a very \n",
      "long line\n",
      "and I want to write more\n",
      "and more\n"
     ]
    }
   ],
   "source": [
    "print('''This is a very \n",
    "long line\n",
    "and I want to write more\n",
    "and more''')"
   ]
  },
  {
   "cell_type": "code",
   "execution_count": 18,
   "id": "d13a1122",
   "metadata": {},
   "outputs": [
    {
     "name": "stdout",
     "output_type": "stream",
     "text": [
      "This is a very \n",
      "long line\n"
     ]
    }
   ],
   "source": [
    "print(\"\"\"This is a very \n",
    "long line\"\"\")"
   ]
  },
  {
   "cell_type": "code",
   "execution_count": 19,
   "id": "9fac3d21",
   "metadata": {},
   "outputs": [
    {
     "name": "stdout",
     "output_type": "stream",
     "text": [
      "This is a very \n",
      "long line and we can\n",
      "divide it into multiple lines\n"
     ]
    }
   ],
   "source": [
    "print(\"\"\"This is a very \n",
    "long line and we can\n",
    "divide it into multiple lines\"\"\")"
   ]
  },
  {
   "cell_type": "code",
   "execution_count": 20,
   "id": "3efa1df1",
   "metadata": {},
   "outputs": [
    {
     "ename": "SyntaxError",
     "evalue": "invalid syntax (599392618.py, line 1)",
     "output_type": "error",
     "traceback": [
      "\u001b[1;36m  Input \u001b[1;32mIn [20]\u001b[1;36m\u001b[0m\n\u001b[1;33m    print(\"\"This is a very\u001b[0m\n\u001b[1;37m            ^\u001b[0m\n\u001b[1;31mSyntaxError\u001b[0m\u001b[1;31m:\u001b[0m invalid syntax\n"
     ]
    }
   ],
   "source": [
    "print(\"This is a very \n",
    "long line\")"
   ]
  },
  {
   "cell_type": "code",
   "execution_count": 7,
   "id": "9dbe18c9",
   "metadata": {},
   "outputs": [
    {
     "name": "stdout",
     "output_type": "stream",
     "text": [
      "This is a very \n",
      "long line\n"
     ]
    }
   ],
   "source": [
    "print(\"\"\"This is a very \n",
    "long line\"\"\")"
   ]
  },
  {
   "cell_type": "code",
   "execution_count": null,
   "id": "9a7e65d7",
   "metadata": {},
   "outputs": [],
   "source": []
  }
 ],
 "metadata": {
  "kernelspec": {
   "display_name": "Python 3 (ipykernel)",
   "language": "python",
   "name": "python3"
  },
  "language_info": {
   "codemirror_mode": {
    "name": "ipython",
    "version": 3
   },
   "file_extension": ".py",
   "mimetype": "text/x-python",
   "name": "python",
   "nbconvert_exporter": "python",
   "pygments_lexer": "ipython3",
   "version": "3.9.12"
  }
 },
 "nbformat": 4,
 "nbformat_minor": 5
}
