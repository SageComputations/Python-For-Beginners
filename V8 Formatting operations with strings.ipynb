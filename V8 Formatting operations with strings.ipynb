{
 "cells": [
  {
   "cell_type": "markdown",
   "id": "b77a73b9",
   "metadata": {},
   "source": [
    "# f,{},.format,/t and /"
   ]
  },
  {
   "cell_type": "code",
   "execution_count": 1,
   "id": "783a72ee",
   "metadata": {},
   "outputs": [
    {
     "name": "stdout",
     "output_type": "stream",
     "text": [
      "A dog barks!\n"
     ]
    }
   ],
   "source": [
    "my_var = 'barks'\n",
    "\n",
    "print('A dog ' + my_var + '!')"
   ]
  },
  {
   "cell_type": "code",
   "execution_count": 2,
   "id": "4240250b",
   "metadata": {},
   "outputs": [
    {
     "name": "stdout",
     "output_type": "stream",
     "text": [
      "A dog barks !\n"
     ]
    }
   ],
   "source": [
    "print(f'A dog {my_var} !') #when you prefix anything with f python \n",
    "                           #will interpret anything within curly braces as expression"
   ]
  },
  {
   "cell_type": "code",
   "execution_count": 3,
   "id": "0dd4b48f",
   "metadata": {},
   "outputs": [
    {
     "name": "stdout",
     "output_type": "stream",
     "text": [
      "A dog {my_var} !\n"
     ]
    }
   ],
   "source": [
    "print('A dog {my_var} !')  # without f it is not interpreted as an expression"
   ]
  },
  {
   "cell_type": "code",
   "execution_count": 4,
   "id": "ad3ebaf5",
   "metadata": {},
   "outputs": [
    {
     "name": "stdout",
     "output_type": "stream",
     "text": [
      "A dog barks !\n"
     ]
    }
   ],
   "source": [
    "print(f'''A dog {my_var} !''')"
   ]
  },
  {
   "cell_type": "code",
   "execution_count": 5,
   "id": "97b499e1",
   "metadata": {},
   "outputs": [
    {
     "name": "stdout",
     "output_type": "stream",
     "text": [
      "A dog barks !\n"
     ]
    }
   ],
   "source": [
    "print('A dog {} !'.format(my_var))"
   ]
  },
  {
   "cell_type": "code",
   "execution_count": 6,
   "id": "48d8da18",
   "metadata": {},
   "outputs": [
    {
     "name": "stdout",
     "output_type": "stream",
     "text": [
      "Meera asked \t 'How are you?'\n"
     ]
    }
   ],
   "source": [
    "print(\"Meera asked \\t 'How are you?'\")  #Tab space"
   ]
  },
  {
   "cell_type": "code",
   "execution_count": 7,
   "id": "b3c72756",
   "metadata": {},
   "outputs": [
    {
     "name": "stdout",
     "output_type": "stream",
     "text": [
      "Hello \t World\n"
     ]
    }
   ],
   "source": [
    "print(\"Hello \\t World\")"
   ]
  },
  {
   "cell_type": "code",
   "execution_count": 8,
   "id": "b40e8b17",
   "metadata": {},
   "outputs": [
    {
     "name": "stdout",
     "output_type": "stream",
     "text": [
      "C:\\Users\\admin\n"
     ]
    }
   ],
   "source": [
    "print('C:\\\\Users\\\\admin')  #How to include another backslash into your string?"
   ]
  },
  {
   "cell_type": "code",
   "execution_count": null,
   "id": "3e4ac83d",
   "metadata": {},
   "outputs": [],
   "source": []
  }
 ],
 "metadata": {
  "kernelspec": {
   "display_name": "Python 3 (ipykernel)",
   "language": "python",
   "name": "python3"
  },
  "language_info": {
   "codemirror_mode": {
    "name": "ipython",
    "version": 3
   },
   "file_extension": ".py",
   "mimetype": "text/x-python",
   "name": "python",
   "nbconvert_exporter": "python",
   "pygments_lexer": "ipython3",
   "version": "3.9.12"
  }
 },
 "nbformat": 4,
 "nbformat_minor": 5
}
